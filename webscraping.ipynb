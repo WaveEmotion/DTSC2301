{
 "cells": [
  {
   "cell_type": "code",
   "execution_count": 59,
   "metadata": {},
   "outputs": [
    {
     "name": "stdout",
     "output_type": "stream",
     "text": [
      "  Student Favourite Computer Language Years of Experience\n",
      "0    Fred                      Kotlin                   4\n",
      "1   Paula                      Python                   2\n",
      "2   Ernst                        Java                   7\n",
      "3  Isabel                         C++                   3\n",
      "4    Tony                       Pearl                   7\n",
      "5   Maria                       Cobol                  15\n"
     ]
    }
   ],
   "source": [
    "import requests\n",
    "import pandas as pd\n",
    "from bs4 import BeautifulSoup\n",
    "html_doc =\"\"\"\n",
    "<table>\n",
    "  <tbody><tr>\n",
    "    <th>Student</th>\n",
    "    <th>Favourite Computer Language</th>\n",
    "    <th>Years of Experience</th>\n",
    "  </tr>\n",
    "  <tr>\n",
    "    <td>Fred</td>\n",
    "    <td>Kotlin</td>\n",
    "    <td>4</td>\n",
    "  </tr>\n",
    "  <tr>\n",
    "    <td>Paula</td>\n",
    "    <td>Python</td>\n",
    "    <td>2</td>\n",
    "  </tr>\n",
    "  <tr>\n",
    "    <td>Ernst</td>\n",
    "    <td>Java</td>\n",
    "    <td>7</td>\n",
    "  </tr>\n",
    "  <tr>\n",
    "    <td>Isabel</td>\n",
    "    <td>C++</td>\n",
    "    <td>3</td>\n",
    "  </tr>\n",
    "  <tr>\n",
    "    <td>Tony</td>\n",
    "    <td>Pearl</td>\n",
    "    <td>7</td>\n",
    "  </tr>\n",
    "  <tr>\n",
    "    <td>Maria</td>\n",
    "    <td>Cobol</td>\n",
    "    <td>15</td>\n",
    "  </tr>\n",
    "</tbody></table>\n",
    "\"\"\"\n",
    "soup = BeautifulSoup(html_doc, 'html.parser')\n",
    "table = soup.find('table')\n",
    "\n",
    "headers = table.find_all(\"th\")\n",
    "titles = []\n",
    "\n",
    "for i in headers:\n",
    "    title = i.text\n",
    "    titles.append(title)\n",
    "\n",
    "df2 = pd.DataFrame(columns=titles)\n",
    "\n",
    "rows = table.find_all(\"tr\")\n",
    "\n",
    "for i in rows[1:]:\n",
    "    data = i.find_all(\"td\")            \n",
    "    row = [tr.text for tr in data]     \n",
    "    l =len(df2)                        \n",
    "    df2.loc[l]= row\n",
    "    df2.head()\n",
    "print(df2)"
   ]
  },
  {
   "cell_type": "code",
   "execution_count": null,
   "metadata": {},
   "outputs": [],
   "source": []
  }
 ],
 "metadata": {
  "kernelspec": {
   "display_name": "Python 3",
   "language": "python",
   "name": "python3"
  },
  "language_info": {
   "codemirror_mode": {
    "name": "ipython",
    "version": 3
   },
   "file_extension": ".py",
   "mimetype": "text/x-python",
   "name": "python",
   "nbconvert_exporter": "python",
   "pygments_lexer": "ipython3",
   "version": "3.11.8"
  }
 },
 "nbformat": 4,
 "nbformat_minor": 2
}
